{
 "cells": [
  {
   "cell_type": "markdown",
   "id": "48d201af",
   "metadata": {},
   "source": [
    "### The datasets in this article describe the Green View Index of the city of Helsinki, Finland, determined using Google Street View images. The datasets are in GeoPackage format, which is an open standard format for transferring geospatial information."
   ]
  },
  {
   "cell_type": "code",
   "execution_count": 101,
   "id": "eaee4317",
   "metadata": {},
   "outputs": [
    {
     "data": {
      "text/plain": [
       "geopandas.geodataframe.GeoDataFrame"
      ]
     },
     "execution_count": 101,
     "metadata": {},
     "output_type": "execute_result"
    }
   ],
   "source": [
    "# The raw datasets came in geopackage format\n",
    "\n",
    "import geopandas as gpd\n",
    "import pandas as pd\n",
    "fp = \"C:/Users/Rasha/Downloads/greenery_points.gpkg\"\n",
    "data = gpd.read_file(fp)\n",
    "type(data)"
   ]
  },
  {
   "cell_type": "code",
   "execution_count": 102,
   "id": "afa400f7",
   "metadata": {},
   "outputs": [
    {
     "data": {
      "text/html": [
       "<div>\n",
       "<style scoped>\n",
       "    .dataframe tbody tr th:only-of-type {\n",
       "        vertical-align: middle;\n",
       "    }\n",
       "\n",
       "    .dataframe tbody tr th {\n",
       "        vertical-align: top;\n",
       "    }\n",
       "\n",
       "    .dataframe thead th {\n",
       "        text-align: right;\n",
       "    }\n",
       "</style>\n",
       "<table border=\"1\" class=\"dataframe\">\n",
       "  <thead>\n",
       "    <tr style=\"text-align: right;\">\n",
       "      <th></th>\n",
       "      <th>panoID</th>\n",
       "      <th>panoDate</th>\n",
       "      <th>longitude</th>\n",
       "      <th>lattitude</th>\n",
       "      <th>Gvi_Mean</th>\n",
       "      <th>geometry</th>\n",
       "    </tr>\n",
       "  </thead>\n",
       "  <tbody>\n",
       "    <tr>\n",
       "      <th>0</th>\n",
       "      <td>0reUq0bM0lUe-4qtxnkL7A</td>\n",
       "      <td>2014-07</td>\n",
       "      <td>24.859928</td>\n",
       "      <td>60.207972</td>\n",
       "      <td>57.474167</td>\n",
       "      <td>POINT (24.85993 60.20797)</td>\n",
       "    </tr>\n",
       "    <tr>\n",
       "      <th>1</th>\n",
       "      <td>03RhquCGbfKkdvrcK2awoQ</td>\n",
       "      <td>2009-06</td>\n",
       "      <td>24.852589</td>\n",
       "      <td>60.183729</td>\n",
       "      <td>42.480104</td>\n",
       "      <td>POINT (24.85259 60.18373)</td>\n",
       "    </tr>\n",
       "    <tr>\n",
       "      <th>2</th>\n",
       "      <td>0RxL9q5IxsZlTGl-OY4Yvg</td>\n",
       "      <td>2009-06</td>\n",
       "      <td>24.867728</td>\n",
       "      <td>60.188102</td>\n",
       "      <td>47.016979</td>\n",
       "      <td>POINT (24.86773 60.18810)</td>\n",
       "    </tr>\n",
       "    <tr>\n",
       "      <th>3</th>\n",
       "      <td>0O18VDfOf43j-JiA1j5aIQ</td>\n",
       "      <td>2014-07</td>\n",
       "      <td>24.882412</td>\n",
       "      <td>60.212695</td>\n",
       "      <td>59.398021</td>\n",
       "      <td>POINT (24.88241 60.21270)</td>\n",
       "    </tr>\n",
       "    <tr>\n",
       "      <th>4</th>\n",
       "      <td>0HqCb--cxO4-G1ld4qft6Q</td>\n",
       "      <td>2014-07</td>\n",
       "      <td>24.855513</td>\n",
       "      <td>60.208596</td>\n",
       "      <td>39.601042</td>\n",
       "      <td>POINT (24.85551 60.20860)</td>\n",
       "    </tr>\n",
       "    <tr>\n",
       "      <th>5</th>\n",
       "      <td>0-7PhgghIwZOs-Im4phbbA</td>\n",
       "      <td>2009-07</td>\n",
       "      <td>24.858713</td>\n",
       "      <td>60.168149</td>\n",
       "      <td>51.988958</td>\n",
       "      <td>POINT (24.85871 60.16815)</td>\n",
       "    </tr>\n",
       "    <tr>\n",
       "      <th>6</th>\n",
       "      <td>00vEYd2d3G6d3S8iRxbK-w</td>\n",
       "      <td>2014-07</td>\n",
       "      <td>24.866081</td>\n",
       "      <td>60.217752</td>\n",
       "      <td>15.755313</td>\n",
       "      <td>POINT (24.86608 60.21775)</td>\n",
       "    </tr>\n",
       "    <tr>\n",
       "      <th>7</th>\n",
       "      <td>0L03PbOqF01axGdWO5eHJg</td>\n",
       "      <td>2014-07</td>\n",
       "      <td>24.855912</td>\n",
       "      <td>60.206752</td>\n",
       "      <td>12.361458</td>\n",
       "      <td>POINT (24.85591 60.20675)</td>\n",
       "    </tr>\n",
       "    <tr>\n",
       "      <th>8</th>\n",
       "      <td>045xK5goZO63e2Y6-tAGiA</td>\n",
       "      <td>2009-06</td>\n",
       "      <td>24.877635</td>\n",
       "      <td>60.199098</td>\n",
       "      <td>37.298646</td>\n",
       "      <td>POINT (24.87763 60.19910)</td>\n",
       "    </tr>\n",
       "    <tr>\n",
       "      <th>9</th>\n",
       "      <td>0eeLDgr4v0hdQdLlGvYcPw</td>\n",
       "      <td>2014-07</td>\n",
       "      <td>24.854600</td>\n",
       "      <td>60.217572</td>\n",
       "      <td>28.015208</td>\n",
       "      <td>POINT (24.85460 60.21757)</td>\n",
       "    </tr>\n",
       "  </tbody>\n",
       "</table>\n",
       "</div>"
      ],
      "text/plain": [
       "                   panoID panoDate  longitude  lattitude   Gvi_Mean  \\\n",
       "0  0reUq0bM0lUe-4qtxnkL7A  2014-07  24.859928  60.207972  57.474167   \n",
       "1  03RhquCGbfKkdvrcK2awoQ  2009-06  24.852589  60.183729  42.480104   \n",
       "2  0RxL9q5IxsZlTGl-OY4Yvg  2009-06  24.867728  60.188102  47.016979   \n",
       "3  0O18VDfOf43j-JiA1j5aIQ  2014-07  24.882412  60.212695  59.398021   \n",
       "4  0HqCb--cxO4-G1ld4qft6Q  2014-07  24.855513  60.208596  39.601042   \n",
       "5  0-7PhgghIwZOs-Im4phbbA  2009-07  24.858713  60.168149  51.988958   \n",
       "6  00vEYd2d3G6d3S8iRxbK-w  2014-07  24.866081  60.217752  15.755313   \n",
       "7  0L03PbOqF01axGdWO5eHJg  2014-07  24.855912  60.206752  12.361458   \n",
       "8  045xK5goZO63e2Y6-tAGiA  2009-06  24.877635  60.199098  37.298646   \n",
       "9  0eeLDgr4v0hdQdLlGvYcPw  2014-07  24.854600  60.217572  28.015208   \n",
       "\n",
       "                    geometry  \n",
       "0  POINT (24.85993 60.20797)  \n",
       "1  POINT (24.85259 60.18373)  \n",
       "2  POINT (24.86773 60.18810)  \n",
       "3  POINT (24.88241 60.21270)  \n",
       "4  POINT (24.85551 60.20860)  \n",
       "5  POINT (24.85871 60.16815)  \n",
       "6  POINT (24.86608 60.21775)  \n",
       "7  POINT (24.85591 60.20675)  \n",
       "8  POINT (24.87763 60.19910)  \n",
       "9  POINT (24.85460 60.21757)  "
      ]
     },
     "execution_count": 102,
     "metadata": {},
     "output_type": "execute_result"
    }
   ],
   "source": [
    "data.head(10)"
   ]
  },
  {
   "cell_type": "code",
   "execution_count": 103,
   "id": "85f37706",
   "metadata": {},
   "outputs": [],
   "source": [
    "#Converting to csv\n",
    "\n",
    "data.to_csv(\"C:/Users/Rasha/Downloads/greenery_points.csv\")"
   ]
  },
  {
   "cell_type": "code",
   "execution_count": 104,
   "id": "5039d01e",
   "metadata": {},
   "outputs": [
    {
     "data": {
      "text/plain": [
       "(92126, 6)"
      ]
     },
     "execution_count": 104,
     "metadata": {},
     "output_type": "execute_result"
    }
   ],
   "source": [
    "data.shape"
   ]
  },
  {
   "cell_type": "markdown",
   "id": "a54b7ca1",
   "metadata": {},
   "source": [
    "### Initially our raw datasets had 92126 instances and 6 features; the pano ID represents the unique ID assigned for the pano image from google, pano date represents the year and month the panorama was taken , longitude and latitude tells the location where the panorama was taken and green view index(GVI) mean describes the average greenery in that particular location. "
   ]
  },
  {
   "cell_type": "markdown",
   "id": "4126e5fc",
   "metadata": {},
   "source": [
    "## Data Cleaning"
   ]
  },
  {
   "cell_type": "code",
   "execution_count": 105,
   "id": "e1d60eb7",
   "metadata": {},
   "outputs": [],
   "source": [
    "#removing unwanted columns/features (basic data cleaning)\n",
    "\n",
    "data = data.drop('panoID', axis = 1)\n",
    "data = data.drop('geometry', axis = 1)"
   ]
  },
  {
   "cell_type": "markdown",
   "id": "d8b97e2b",
   "metadata": {},
   "source": [
    "### The software that we would be using to plot and locate in our map supports only limited amount of data. That's why we would be removing some instances and also we've removed panoId and geometry column as it didn't allow us to coordinate with our map"
   ]
  },
  {
   "cell_type": "code",
   "execution_count": 106,
   "id": "b7b4a7d4",
   "metadata": {},
   "outputs": [
    {
     "data": {
      "text/html": [
       "<div>\n",
       "<style scoped>\n",
       "    .dataframe tbody tr th:only-of-type {\n",
       "        vertical-align: middle;\n",
       "    }\n",
       "\n",
       "    .dataframe tbody tr th {\n",
       "        vertical-align: top;\n",
       "    }\n",
       "\n",
       "    .dataframe thead th {\n",
       "        text-align: right;\n",
       "    }\n",
       "</style>\n",
       "<table border=\"1\" class=\"dataframe\">\n",
       "  <thead>\n",
       "    <tr style=\"text-align: right;\">\n",
       "      <th></th>\n",
       "      <th>panoDate</th>\n",
       "      <th>longitude</th>\n",
       "      <th>lattitude</th>\n",
       "      <th>Gvi_Mean</th>\n",
       "    </tr>\n",
       "  </thead>\n",
       "  <tbody>\n",
       "    <tr>\n",
       "      <th>0</th>\n",
       "      <td>2014-07</td>\n",
       "      <td>24.859928</td>\n",
       "      <td>60.207972</td>\n",
       "      <td>57.474167</td>\n",
       "    </tr>\n",
       "    <tr>\n",
       "      <th>1</th>\n",
       "      <td>2009-06</td>\n",
       "      <td>24.852589</td>\n",
       "      <td>60.183729</td>\n",
       "      <td>42.480104</td>\n",
       "    </tr>\n",
       "    <tr>\n",
       "      <th>2</th>\n",
       "      <td>2009-06</td>\n",
       "      <td>24.867728</td>\n",
       "      <td>60.188102</td>\n",
       "      <td>47.016979</td>\n",
       "    </tr>\n",
       "    <tr>\n",
       "      <th>3</th>\n",
       "      <td>2014-07</td>\n",
       "      <td>24.882412</td>\n",
       "      <td>60.212695</td>\n",
       "      <td>59.398021</td>\n",
       "    </tr>\n",
       "    <tr>\n",
       "      <th>4</th>\n",
       "      <td>2014-07</td>\n",
       "      <td>24.855513</td>\n",
       "      <td>60.208596</td>\n",
       "      <td>39.601042</td>\n",
       "    </tr>\n",
       "  </tbody>\n",
       "</table>\n",
       "</div>"
      ],
      "text/plain": [
       "  panoDate  longitude  lattitude   Gvi_Mean\n",
       "0  2014-07  24.859928  60.207972  57.474167\n",
       "1  2009-06  24.852589  60.183729  42.480104\n",
       "2  2009-06  24.867728  60.188102  47.016979\n",
       "3  2014-07  24.882412  60.212695  59.398021\n",
       "4  2014-07  24.855513  60.208596  39.601042"
      ]
     },
     "execution_count": 106,
     "metadata": {},
     "output_type": "execute_result"
    }
   ],
   "source": [
    "data.head(5)"
   ]
  },
  {
   "cell_type": "code",
   "execution_count": 53,
   "id": "899279ae",
   "metadata": {},
   "outputs": [
    {
     "data": {
      "text/plain": [
       "(92126, 4)"
      ]
     },
     "execution_count": 53,
     "metadata": {},
     "output_type": "execute_result"
    }
   ],
   "source": [
    "data.shape\n",
    "#2 features are removed. So now we only have 4 features"
   ]
  },
  {
   "cell_type": "code",
   "execution_count": 54,
   "id": "25bb6f73",
   "metadata": {},
   "outputs": [
    {
     "data": {
      "text/plain": [
       "(92126, 4)"
      ]
     },
     "execution_count": 54,
     "metadata": {},
     "output_type": "execute_result"
    }
   ],
   "source": [
    "data.dropna(how='any').shape\n",
    "#This proves that we have no missing data in any of our instances"
   ]
  },
  {
   "cell_type": "code",
   "execution_count": 55,
   "id": "ca8a5e1c",
   "metadata": {},
   "outputs": [
    {
     "data": {
      "text/plain": [
       "geopandas.geodataframe.GeoDataFrame"
      ]
     },
     "execution_count": 55,
     "metadata": {},
     "output_type": "execute_result"
    }
   ],
   "source": [
    "type(data)"
   ]
  },
  {
   "cell_type": "code",
   "execution_count": 56,
   "id": "ebfb0d02",
   "metadata": {},
   "outputs": [
    {
     "data": {
      "text/html": [
       "<div>\n",
       "<style scoped>\n",
       "    .dataframe tbody tr th:only-of-type {\n",
       "        vertical-align: middle;\n",
       "    }\n",
       "\n",
       "    .dataframe tbody tr th {\n",
       "        vertical-align: top;\n",
       "    }\n",
       "\n",
       "    .dataframe thead th {\n",
       "        text-align: right;\n",
       "    }\n",
       "</style>\n",
       "<table border=\"1\" class=\"dataframe\">\n",
       "  <thead>\n",
       "    <tr style=\"text-align: right;\">\n",
       "      <th></th>\n",
       "      <th>panoDate</th>\n",
       "      <th>longitude</th>\n",
       "      <th>lattitude</th>\n",
       "      <th>Gvi_Mean</th>\n",
       "    </tr>\n",
       "  </thead>\n",
       "  <tbody>\n",
       "    <tr>\n",
       "      <th>60984</th>\n",
       "      <td>2009-05</td>\n",
       "      <td>25.078503</td>\n",
       "      <td>60.254760</td>\n",
       "      <td>25.386979</td>\n",
       "    </tr>\n",
       "    <tr>\n",
       "      <th>85649</th>\n",
       "      <td>2009-05</td>\n",
       "      <td>25.119039</td>\n",
       "      <td>60.205377</td>\n",
       "      <td>0.140521</td>\n",
       "    </tr>\n",
       "    <tr>\n",
       "      <th>77757</th>\n",
       "      <td>2009-05</td>\n",
       "      <td>25.158941</td>\n",
       "      <td>60.208746</td>\n",
       "      <td>15.356250</td>\n",
       "    </tr>\n",
       "    <tr>\n",
       "      <th>19448</th>\n",
       "      <td>2009-05</td>\n",
       "      <td>25.084323</td>\n",
       "      <td>60.264524</td>\n",
       "      <td>37.638542</td>\n",
       "    </tr>\n",
       "    <tr>\n",
       "      <th>42944</th>\n",
       "      <td>2009-05</td>\n",
       "      <td>25.122010</td>\n",
       "      <td>60.204892</td>\n",
       "      <td>13.208021</td>\n",
       "    </tr>\n",
       "    <tr>\n",
       "      <th>5129</th>\n",
       "      <td>2009-05</td>\n",
       "      <td>25.079586</td>\n",
       "      <td>60.255649</td>\n",
       "      <td>33.331146</td>\n",
       "    </tr>\n",
       "    <tr>\n",
       "      <th>86715</th>\n",
       "      <td>2009-05</td>\n",
       "      <td>25.078123</td>\n",
       "      <td>60.254730</td>\n",
       "      <td>26.276042</td>\n",
       "    </tr>\n",
       "    <tr>\n",
       "      <th>19456</th>\n",
       "      <td>2009-05</td>\n",
       "      <td>25.084440</td>\n",
       "      <td>60.264243</td>\n",
       "      <td>31.609896</td>\n",
       "    </tr>\n",
       "    <tr>\n",
       "      <th>58825</th>\n",
       "      <td>2009-05</td>\n",
       "      <td>25.070371</td>\n",
       "      <td>60.263041</td>\n",
       "      <td>49.571354</td>\n",
       "    </tr>\n",
       "    <tr>\n",
       "      <th>59608</th>\n",
       "      <td>2009-05</td>\n",
       "      <td>25.084536</td>\n",
       "      <td>60.264308</td>\n",
       "      <td>33.310208</td>\n",
       "    </tr>\n",
       "  </tbody>\n",
       "</table>\n",
       "</div>"
      ],
      "text/plain": [
       "      panoDate  longitude  lattitude   Gvi_Mean\n",
       "60984  2009-05  25.078503  60.254760  25.386979\n",
       "85649  2009-05  25.119039  60.205377   0.140521\n",
       "77757  2009-05  25.158941  60.208746  15.356250\n",
       "19448  2009-05  25.084323  60.264524  37.638542\n",
       "42944  2009-05  25.122010  60.204892  13.208021\n",
       "5129   2009-05  25.079586  60.255649  33.331146\n",
       "86715  2009-05  25.078123  60.254730  26.276042\n",
       "19456  2009-05  25.084440  60.264243  31.609896\n",
       "58825  2009-05  25.070371  60.263041  49.571354\n",
       "59608  2009-05  25.084536  60.264308  33.310208"
      ]
     },
     "execution_count": 56,
     "metadata": {},
     "output_type": "execute_result"
    }
   ],
   "source": [
    "data = data.sort_values(by = 'panoDate', ascending=True)\n",
    "data.head(10)"
   ]
  },
  {
   "cell_type": "code",
   "execution_count": 57,
   "id": "6e3bdfce",
   "metadata": {},
   "outputs": [],
   "source": [
    "cols = ['Pano_Date','Longitude','Latitude','Green_View_Index(Mean)']\n",
    "data.columns = cols"
   ]
  },
  {
   "cell_type": "code",
   "execution_count": 58,
   "id": "da4a94d1",
   "metadata": {},
   "outputs": [],
   "source": [
    "data.index.rename('index', inplace=True)\n",
    "data.to_csv(\"C:/Users/Rasha/Downloads/final_gvi.csv\")"
   ]
  },
  {
   "cell_type": "code",
   "execution_count": 59,
   "id": "abe420cd",
   "metadata": {},
   "outputs": [
    {
     "data": {
      "text/html": [
       "<div>\n",
       "<style scoped>\n",
       "    .dataframe tbody tr th:only-of-type {\n",
       "        vertical-align: middle;\n",
       "    }\n",
       "\n",
       "    .dataframe tbody tr th {\n",
       "        vertical-align: top;\n",
       "    }\n",
       "\n",
       "    .dataframe thead th {\n",
       "        text-align: right;\n",
       "    }\n",
       "</style>\n",
       "<table border=\"1\" class=\"dataframe\">\n",
       "  <thead>\n",
       "    <tr style=\"text-align: right;\">\n",
       "      <th></th>\n",
       "      <th>index</th>\n",
       "      <th>Pano_Date</th>\n",
       "      <th>Longitude</th>\n",
       "      <th>Latitude</th>\n",
       "      <th>Green_View_Index(Mean)</th>\n",
       "      <th>geometry</th>\n",
       "    </tr>\n",
       "  </thead>\n",
       "  <tbody>\n",
       "    <tr>\n",
       "      <th>0</th>\n",
       "      <td>60984</td>\n",
       "      <td>2009-05</td>\n",
       "      <td>25.078503</td>\n",
       "      <td>60.25476</td>\n",
       "      <td>25.3869791667</td>\n",
       "      <td>None</td>\n",
       "    </tr>\n",
       "    <tr>\n",
       "      <th>1</th>\n",
       "      <td>85649</td>\n",
       "      <td>2009-05</td>\n",
       "      <td>25.119039</td>\n",
       "      <td>60.205377</td>\n",
       "      <td>0.140520833333</td>\n",
       "      <td>None</td>\n",
       "    </tr>\n",
       "    <tr>\n",
       "      <th>2</th>\n",
       "      <td>77757</td>\n",
       "      <td>2009-05</td>\n",
       "      <td>25.158941</td>\n",
       "      <td>60.208746</td>\n",
       "      <td>15.35625</td>\n",
       "      <td>None</td>\n",
       "    </tr>\n",
       "    <tr>\n",
       "      <th>3</th>\n",
       "      <td>19448</td>\n",
       "      <td>2009-05</td>\n",
       "      <td>25.084323</td>\n",
       "      <td>60.264524</td>\n",
       "      <td>37.6385416667</td>\n",
       "      <td>None</td>\n",
       "    </tr>\n",
       "    <tr>\n",
       "      <th>4</th>\n",
       "      <td>42944</td>\n",
       "      <td>2009-05</td>\n",
       "      <td>25.12201</td>\n",
       "      <td>60.204892</td>\n",
       "      <td>13.208020833299999</td>\n",
       "      <td>None</td>\n",
       "    </tr>\n",
       "  </tbody>\n",
       "</table>\n",
       "</div>"
      ],
      "text/plain": [
       "   index Pano_Date  Longitude   Latitude Green_View_Index(Mean) geometry\n",
       "0  60984   2009-05  25.078503   60.25476          25.3869791667     None\n",
       "1  85649   2009-05  25.119039  60.205377         0.140520833333     None\n",
       "2  77757   2009-05  25.158941  60.208746               15.35625     None\n",
       "3  19448   2009-05  25.084323  60.264524          37.6385416667     None\n",
       "4  42944   2009-05   25.12201  60.204892     13.208020833299999     None"
      ]
     },
     "execution_count": 59,
     "metadata": {},
     "output_type": "execute_result"
    }
   ],
   "source": [
    "#Renaming indices\n",
    "data = gpd.read_file(\"C:/Users/Rasha/Downloads/final_gvi.csv\")\n",
    "data.head()"
   ]
  },
  {
   "cell_type": "code",
   "execution_count": 66,
   "id": "ce3569f1",
   "metadata": {},
   "outputs": [],
   "source": [
    "data = data.drop('geometry', axis = 1)"
   ]
  },
  {
   "cell_type": "code",
   "execution_count": 67,
   "id": "4de81194",
   "metadata": {},
   "outputs": [],
   "source": [
    "data = data.drop('index', axis = 1)"
   ]
  },
  {
   "cell_type": "code",
   "execution_count": 69,
   "id": "88686074",
   "metadata": {},
   "outputs": [],
   "source": [
    "data = data.drop('Unnamed: 0', axis = 1)"
   ]
  },
  {
   "cell_type": "code",
   "execution_count": 70,
   "id": "2ae18b9d",
   "metadata": {},
   "outputs": [
    {
     "data": {
      "text/html": [
       "<div>\n",
       "<style scoped>\n",
       "    .dataframe tbody tr th:only-of-type {\n",
       "        vertical-align: middle;\n",
       "    }\n",
       "\n",
       "    .dataframe tbody tr th {\n",
       "        vertical-align: top;\n",
       "    }\n",
       "\n",
       "    .dataframe thead th {\n",
       "        text-align: right;\n",
       "    }\n",
       "</style>\n",
       "<table border=\"1\" class=\"dataframe\">\n",
       "  <thead>\n",
       "    <tr style=\"text-align: right;\">\n",
       "      <th></th>\n",
       "      <th>Pano_Date</th>\n",
       "      <th>Longitude</th>\n",
       "      <th>Latitude</th>\n",
       "      <th>Green_View_Index(Mean)</th>\n",
       "    </tr>\n",
       "  </thead>\n",
       "  <tbody>\n",
       "    <tr>\n",
       "      <th>0</th>\n",
       "      <td>2009-05</td>\n",
       "      <td>25.078503</td>\n",
       "      <td>60.254760</td>\n",
       "      <td>25.386979</td>\n",
       "    </tr>\n",
       "    <tr>\n",
       "      <th>1</th>\n",
       "      <td>2009-05</td>\n",
       "      <td>25.119039</td>\n",
       "      <td>60.205377</td>\n",
       "      <td>0.140521</td>\n",
       "    </tr>\n",
       "    <tr>\n",
       "      <th>2</th>\n",
       "      <td>2009-05</td>\n",
       "      <td>25.158941</td>\n",
       "      <td>60.208746</td>\n",
       "      <td>15.356250</td>\n",
       "    </tr>\n",
       "    <tr>\n",
       "      <th>3</th>\n",
       "      <td>2009-05</td>\n",
       "      <td>25.084323</td>\n",
       "      <td>60.264524</td>\n",
       "      <td>37.638542</td>\n",
       "    </tr>\n",
       "    <tr>\n",
       "      <th>4</th>\n",
       "      <td>2009-05</td>\n",
       "      <td>25.122010</td>\n",
       "      <td>60.204892</td>\n",
       "      <td>13.208021</td>\n",
       "    </tr>\n",
       "  </tbody>\n",
       "</table>\n",
       "</div>"
      ],
      "text/plain": [
       "  Pano_Date  Longitude   Latitude  Green_View_Index(Mean)\n",
       "0   2009-05  25.078503  60.254760               25.386979\n",
       "1   2009-05  25.119039  60.205377                0.140521\n",
       "2   2009-05  25.158941  60.208746               15.356250\n",
       "3   2009-05  25.084323  60.264524               37.638542\n",
       "4   2009-05  25.122010  60.204892               13.208021"
      ]
     },
     "execution_count": 70,
     "metadata": {},
     "output_type": "execute_result"
    }
   ],
   "source": [
    "data.head()"
   ]
  },
  {
   "cell_type": "code",
   "execution_count": 71,
   "id": "cccfee70",
   "metadata": {},
   "outputs": [
    {
     "data": {
      "text/plain": [
       "Pano_Date                  object\n",
       "Longitude                 float64\n",
       "Latitude                  float64\n",
       "Green_View_Index(Mean)    float64\n",
       "dtype: object"
      ]
     },
     "execution_count": 71,
     "metadata": {},
     "output_type": "execute_result"
    }
   ],
   "source": [
    "#brief description of each feature\n",
    "data.dtypes"
   ]
  },
  {
   "cell_type": "code",
   "execution_count": 87,
   "id": "ed564d4d",
   "metadata": {},
   "outputs": [
    {
     "data": {
      "text/plain": [
       "(4000, 4)"
      ]
     },
     "execution_count": 87,
     "metadata": {},
     "output_type": "execute_result"
    }
   ],
   "source": [
    "data = data.drop(data.index[4000:])\n",
    "data.shape"
   ]
  },
  {
   "cell_type": "code",
   "execution_count": 88,
   "id": "b227a46e",
   "metadata": {},
   "outputs": [],
   "source": [
    "cols = ['PanoDate','Longitude','Latitude','gvi']\n",
    "data.columns = cols"
   ]
  },
  {
   "cell_type": "code",
   "execution_count": 89,
   "id": "14bc8458",
   "metadata": {},
   "outputs": [],
   "source": [
    "data = data.sort_values(by = 'gvi', ascending=True)"
   ]
  },
  {
   "cell_type": "code",
   "execution_count": 91,
   "id": "b88ce6d6",
   "metadata": {},
   "outputs": [],
   "source": [
    "#exporting csv file with proper indices\n",
    "data.to_csv(\"C:/Users/Rasha/Downloads/final_gvi.csv\")"
   ]
  },
  {
   "cell_type": "code",
   "execution_count": 92,
   "id": "fa760e44",
   "metadata": {},
   "outputs": [
    {
     "data": {
      "text/html": [
       "<div>\n",
       "<style scoped>\n",
       "    .dataframe tbody tr th:only-of-type {\n",
       "        vertical-align: middle;\n",
       "    }\n",
       "\n",
       "    .dataframe tbody tr th {\n",
       "        vertical-align: top;\n",
       "    }\n",
       "\n",
       "    .dataframe thead th {\n",
       "        text-align: right;\n",
       "    }\n",
       "</style>\n",
       "<table border=\"1\" class=\"dataframe\">\n",
       "  <thead>\n",
       "    <tr style=\"text-align: right;\">\n",
       "      <th></th>\n",
       "      <th>Unnamed: 0</th>\n",
       "      <th>PanoDate</th>\n",
       "      <th>Longitude</th>\n",
       "      <th>Latitude</th>\n",
       "      <th>gvi</th>\n",
       "    </tr>\n",
       "  </thead>\n",
       "  <tbody>\n",
       "    <tr>\n",
       "      <th>0</th>\n",
       "      <td>0</td>\n",
       "      <td>2009-05</td>\n",
       "      <td>25.119039</td>\n",
       "      <td>60.205377</td>\n",
       "      <td>0.140521</td>\n",
       "    </tr>\n",
       "    <tr>\n",
       "      <th>1</th>\n",
       "      <td>1</td>\n",
       "      <td>2009-05</td>\n",
       "      <td>25.119803</td>\n",
       "      <td>60.205237</td>\n",
       "      <td>0.159375</td>\n",
       "    </tr>\n",
       "    <tr>\n",
       "      <th>2</th>\n",
       "      <td>2</td>\n",
       "      <td>2009-05</td>\n",
       "      <td>25.119497</td>\n",
       "      <td>60.205293</td>\n",
       "      <td>0.181354</td>\n",
       "    </tr>\n",
       "    <tr>\n",
       "      <th>3</th>\n",
       "      <td>3</td>\n",
       "      <td>2009-06</td>\n",
       "      <td>25.145106</td>\n",
       "      <td>60.207533</td>\n",
       "      <td>0.256979</td>\n",
       "    </tr>\n",
       "    <tr>\n",
       "      <th>4</th>\n",
       "      <td>4</td>\n",
       "      <td>2009-05</td>\n",
       "      <td>25.119650</td>\n",
       "      <td>60.205265</td>\n",
       "      <td>0.292604</td>\n",
       "    </tr>\n",
       "  </tbody>\n",
       "</table>\n",
       "</div>"
      ],
      "text/plain": [
       "   Unnamed: 0 PanoDate  Longitude   Latitude       gvi\n",
       "0           0  2009-05  25.119039  60.205377  0.140521\n",
       "1           1  2009-05  25.119803  60.205237  0.159375\n",
       "2           2  2009-05  25.119497  60.205293  0.181354\n",
       "3           3  2009-06  25.145106  60.207533  0.256979\n",
       "4           4  2009-05  25.119650  60.205265  0.292604"
      ]
     },
     "execution_count": 92,
     "metadata": {},
     "output_type": "execute_result"
    }
   ],
   "source": [
    "data = pd.read_csv(\"C:/Users/Rasha/Downloads/final_gvi.csv\")\n",
    "data.head()"
   ]
  },
  {
   "cell_type": "code",
   "execution_count": 107,
   "id": "472c4460",
   "metadata": {},
   "outputs": [
    {
     "data": {
      "text/html": [
       "<div>\n",
       "<style scoped>\n",
       "    .dataframe tbody tr th:only-of-type {\n",
       "        vertical-align: middle;\n",
       "    }\n",
       "\n",
       "    .dataframe tbody tr th {\n",
       "        vertical-align: top;\n",
       "    }\n",
       "\n",
       "    .dataframe thead th {\n",
       "        text-align: right;\n",
       "    }\n",
       "</style>\n",
       "<table border=\"1\" class=\"dataframe\">\n",
       "  <thead>\n",
       "    <tr style=\"text-align: right;\">\n",
       "      <th></th>\n",
       "      <th>PanoDate</th>\n",
       "      <th>Longitude</th>\n",
       "      <th>Latitude</th>\n",
       "      <th>gvi</th>\n",
       "      <th>Status</th>\n",
       "    </tr>\n",
       "  </thead>\n",
       "  <tbody>\n",
       "    <tr>\n",
       "      <th>0</th>\n",
       "      <td>2009-05</td>\n",
       "      <td>25.119039</td>\n",
       "      <td>60.205377</td>\n",
       "      <td>0.140521</td>\n",
       "      <td>Yes</td>\n",
       "    </tr>\n",
       "    <tr>\n",
       "      <th>1</th>\n",
       "      <td>2009-05</td>\n",
       "      <td>25.119803</td>\n",
       "      <td>60.205237</td>\n",
       "      <td>0.159375</td>\n",
       "      <td>Yes</td>\n",
       "    </tr>\n",
       "    <tr>\n",
       "      <th>2</th>\n",
       "      <td>2009-05</td>\n",
       "      <td>25.119497</td>\n",
       "      <td>60.205293</td>\n",
       "      <td>0.181354</td>\n",
       "      <td>Yes</td>\n",
       "    </tr>\n",
       "    <tr>\n",
       "      <th>3</th>\n",
       "      <td>2009-06</td>\n",
       "      <td>25.145106</td>\n",
       "      <td>60.207533</td>\n",
       "      <td>0.256979</td>\n",
       "      <td>Yes</td>\n",
       "    </tr>\n",
       "    <tr>\n",
       "      <th>4</th>\n",
       "      <td>2009-05</td>\n",
       "      <td>25.119650</td>\n",
       "      <td>60.205265</td>\n",
       "      <td>0.292604</td>\n",
       "      <td>Yes</td>\n",
       "    </tr>\n",
       "  </tbody>\n",
       "</table>\n",
       "</div>"
      ],
      "text/plain": [
       "  PanoDate  Longitude   Latitude       gvi Status\n",
       "0  2009-05  25.119039  60.205377  0.140521    Yes\n",
       "1  2009-05  25.119803  60.205237  0.159375    Yes\n",
       "2  2009-05  25.119497  60.205293  0.181354    Yes\n",
       "3  2009-06  25.145106  60.207533  0.256979    Yes\n",
       "4  2009-05  25.119650  60.205265  0.292604    Yes"
      ]
     },
     "execution_count": 107,
     "metadata": {},
     "output_type": "execute_result"
    }
   ],
   "source": [
    "data = pd.read_csv(\"C:/Users/Rasha/Downloads/final_gvi.csv\")\n",
    "data.head()"
   ]
  },
  {
   "cell_type": "markdown",
   "id": "4b374f49",
   "metadata": {},
   "source": [
    "## Training"
   ]
  },
  {
   "cell_type": "code",
   "execution_count": 110,
   "id": "34e89d5b",
   "metadata": {},
   "outputs": [],
   "source": [
    "X = data.iloc[:, 3].values\n",
    "y = data.iloc[:, -1].values"
   ]
  },
  {
   "cell_type": "code",
   "execution_count": 111,
   "id": "52b27e53",
   "metadata": {},
   "outputs": [
    {
     "name": "stdout",
     "output_type": "stream",
     "text": [
      "[ 0.14052083  0.159375    0.18135417 ... 63.49416667 65.00291667\n",
      " 65.40854167]\n"
     ]
    }
   ],
   "source": [
    "print(X)"
   ]
  },
  {
   "cell_type": "code",
   "execution_count": 112,
   "id": "5612ed2e",
   "metadata": {},
   "outputs": [
    {
     "name": "stdout",
     "output_type": "stream",
     "text": [
      "['Yes' 'Yes' 'Yes' ... 'No' 'No' 'No']\n"
     ]
    }
   ],
   "source": [
    "print(y)"
   ]
  },
  {
   "cell_type": "code",
   "execution_count": 122,
   "id": "9c6c6f0b",
   "metadata": {},
   "outputs": [
    {
     "name": "stdout",
     "output_type": "stream",
     "text": [
      "<class 'numpy.ndarray'>\n"
     ]
    }
   ],
   "source": [
    "print(type(X))\n"
   ]
  },
  {
   "cell_type": "code",
   "execution_count": 114,
   "id": "9d3f3673",
   "metadata": {},
   "outputs": [],
   "source": [
    "from sklearn.preprocessing import LabelEncoder\n",
    "le = LabelEncoder()\n",
    "y = le.fit_transform(y)"
   ]
  },
  {
   "cell_type": "code",
   "execution_count": 115,
   "id": "b4d6246c",
   "metadata": {},
   "outputs": [
    {
     "name": "stdout",
     "output_type": "stream",
     "text": [
      "[1 1 1 ... 0 0 0]\n"
     ]
    }
   ],
   "source": [
    "print(y)"
   ]
  },
  {
   "cell_type": "markdown",
   "id": "d09e1307",
   "metadata": {},
   "source": [
    "### Splitting the dataset into training and test test"
   ]
  },
  {
   "cell_type": "code",
   "execution_count": 116,
   "id": "d3895774",
   "metadata": {},
   "outputs": [],
   "source": [
    "from sklearn.model_selection import train_test_split\n",
    "X_train,X_test,y_train,y_test = train_test_split(X, y, test_size = 0.2, random_state=0)"
   ]
  },
  {
   "cell_type": "code",
   "execution_count": 123,
   "id": "54782a91",
   "metadata": {},
   "outputs": [],
   "source": [
    "import numpy as np\n",
    "X_train = np.reshape(X_train, (-1,1))\n",
    "X_test = np.reshape(X_test, (-1,1))\n",
    "y_train = np.reshape(y_train, (-1,1))\n",
    "y_test = np.reshape(y_test, (-1,1))"
   ]
  },
  {
   "cell_type": "markdown",
   "id": "64708314",
   "metadata": {},
   "source": [
    "### Training using KNN algorithm"
   ]
  },
  {
   "cell_type": "code",
   "execution_count": 124,
   "id": "d6baa9f1",
   "metadata": {},
   "outputs": [
    {
     "name": "stderr",
     "output_type": "stream",
     "text": [
      "C:\\Users\\Rasha\\anaconda3\\envs\\keras\\lib\\site-packages\\sklearn\\neighbors\\_classification.py:179: DataConversionWarning: A column-vector y was passed when a 1d array was expected. Please change the shape of y to (n_samples,), for example using ravel().\n",
      "  return self._fit(X, y)\n"
     ]
    },
    {
     "data": {
      "text/plain": [
       "KNeighborsClassifier()"
      ]
     },
     "execution_count": 124,
     "metadata": {},
     "output_type": "execute_result"
    }
   ],
   "source": [
    "from sklearn.neighbors import KNeighborsClassifier\n",
    "knn = KNeighborsClassifier(n_neighbors = 5, metric = 'minkowski', p = 2)\n",
    "knn.fit(X_train, y_train)"
   ]
  },
  {
   "cell_type": "code",
   "execution_count": 126,
   "id": "7c2b25f9",
   "metadata": {},
   "outputs": [
    {
     "name": "stdout",
     "output_type": "stream",
     "text": [
      "[1]\n"
     ]
    }
   ],
   "source": [
    "print(knn.predict([[28.92]]))"
   ]
  },
  {
   "cell_type": "code",
   "execution_count": 127,
   "id": "d7ce0089",
   "metadata": {},
   "outputs": [
    {
     "name": "stdout",
     "output_type": "stream",
     "text": [
      "[0]\n"
     ]
    }
   ],
   "source": [
    "print(knn.predict([[30.99]]))"
   ]
  },
  {
   "cell_type": "code",
   "execution_count": 128,
   "id": "415183cb",
   "metadata": {},
   "outputs": [
    {
     "name": "stdout",
     "output_type": "stream",
     "text": [
      "[[0 0]\n",
      " [1 1]\n",
      " [0 0]\n",
      " ...\n",
      " [0 0]\n",
      " [1 1]\n",
      " [1 1]]\n"
     ]
    }
   ],
   "source": [
    "y_pred = knn.predict(X_test)\n",
    "print(np.concatenate((y_pred.reshape(len(y_pred), 1), y_test.reshape(len(y_test), 1)), 1))"
   ]
  },
  {
   "cell_type": "markdown",
   "id": "b75a8b62",
   "metadata": {},
   "source": [
    "### Confusion Matrix"
   ]
  },
  {
   "cell_type": "code",
   "execution_count": 130,
   "id": "35092751",
   "metadata": {},
   "outputs": [
    {
     "name": "stdout",
     "output_type": "stream",
     "text": [
      "[[432   1]\n",
      " [  0 367]]\n"
     ]
    }
   ],
   "source": [
    "from sklearn.metrics import confusion_matrix\n",
    "cm = confusion_matrix(y_test, y_pred)\n",
    "print(cm)"
   ]
  },
  {
   "cell_type": "markdown",
   "id": "98509d52",
   "metadata": {},
   "source": [
    "### Accuracy"
   ]
  },
  {
   "cell_type": "code",
   "execution_count": 131,
   "id": "d0296116",
   "metadata": {},
   "outputs": [
    {
     "data": {
      "text/plain": [
       "0.99875"
      ]
     },
     "execution_count": 131,
     "metadata": {},
     "output_type": "execute_result"
    }
   ],
   "source": [
    "from sklearn.metrics import accuracy_score\n",
    "\n",
    "accuracy_score(y_test, y_pred)"
   ]
  },
  {
   "cell_type": "code",
   "execution_count": null,
   "id": "18ed5fb5",
   "metadata": {},
   "outputs": [],
   "source": []
  }
 ],
 "metadata": {
  "kernelspec": {
   "display_name": "Python 3",
   "language": "python",
   "name": "python3"
  },
  "language_info": {
   "codemirror_mode": {
    "name": "ipython",
    "version": 3
   },
   "file_extension": ".py",
   "mimetype": "text/x-python",
   "name": "python",
   "nbconvert_exporter": "python",
   "pygments_lexer": "ipython3",
   "version": "3.6.13"
  }
 },
 "nbformat": 4,
 "nbformat_minor": 5
}
